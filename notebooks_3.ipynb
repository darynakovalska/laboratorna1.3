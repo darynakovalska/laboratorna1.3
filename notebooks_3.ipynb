{
  "metadata": {
    "language_info": {
      "codemirror_mode": {
        "name": "python",
        "version": 3
      },
      "file_extension": ".py",
      "mimetype": "text/x-python",
      "name": "python",
      "nbconvert_exporter": "python",
      "pygments_lexer": "ipython3",
      "version": "3.8"
    },
    "kernelspec": {
      "name": "python",
      "display_name": "Python (Pyodide)",
      "language": "python"
    }
  },
  "nbformat_minor": 4,
  "nbformat": 4,
  "cells": [
    {
      "cell_type": "code",
      "source": "def sum_of_series(n):\n    result = 0\n    current_term = 0\n    \n    for i in range(n):\n        current_term = current_term * 10 + 1  # Додаємо одиницю та збільшуємо розряд числа\n        result += current_term\n    \n    return result\n\nn = 5\nresult = sum_of_series(n)\nprint(f'Сума ряду для n = {n} дорівнює {result}')\n",
      "metadata": {
        "trusted": true
      },
      "execution_count": 1,
      "outputs": [
        {
          "name": "stdout",
          "text": "Сума ряду для n = 5 дорівнює 12345\n",
          "output_type": "stream"
        }
      ]
    },
    {
      "cell_type": "code",
      "source": "",
      "metadata": {},
      "execution_count": null,
      "outputs": []
    }
  ]
}